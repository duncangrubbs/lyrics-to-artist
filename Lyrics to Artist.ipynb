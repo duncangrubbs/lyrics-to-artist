{
 "cells": [
  {
   "cell_type": "markdown",
   "metadata": {},
   "source": [
    "# Lyrics to Artist\n",
    "\n",
    "We train a neural network on lyrics from 10 different artists. Each artist has 100 songs to train on, and then we test the network"
   ]
  },
  {
   "cell_type": "markdown",
   "metadata": {},
   "source": [
    "### Libraries, API, and constants setup"
   ]
  },
  {
   "cell_type": "code",
   "execution_count": 49,
   "metadata": {},
   "outputs": [],
   "source": [
    "import lyricsgenius as genius\n",
    "import os\n",
    "import json\n",
    "from sklearn.utils import shuffle\n",
    "from tqdm import tqdm\n",
    "import matplotlib.pylab as plt\n",
    "import numpy as np\n",
    "import keras\n",
    "from keras.models import Sequential\n",
    "from keras.layers import Dense, Activation, Dropout\n",
    "from keras.optimizers import SGD\n",
    "\n",
    "# Duncan's API key, change to your own if you are downloading data\n",
    "geniusCreds = 'Lw6NjXtbU7NndUFHRCcOX9FdLhPzVokLIt9c4LWzsTxM10wF7EICGtWSSso8Ohsq'\n",
    "NUM_OF_SONGS = 100\n",
    "\n",
    "artist_names = [\n",
    "#     'James Taylor',\n",
    "#     'The Beatles',\n",
    "#     'Johnny Cash',\n",
    "#     'Van Morrison',\n",
    "#     'Bob Dylan',\n",
    "#     'Fleetwood Mac',\n",
    "#     'Lil Wayne',\n",
    "#     'J. Cole',\n",
    "    'Taylor Swift',\n",
    "    'Beyoncé'\n",
    "]\n",
    "\n",
    "api = genius.Genius(geniusCreds)\n",
    "genius.skip_non_songs = True\n",
    "genius.excluded_terms = [\"(Remix)\", \"(Live)\"]"
   ]
  },
  {
   "cell_type": "markdown",
   "metadata": {},
   "source": [
    "### Download Lyric Data"
   ]
  },
  {
   "cell_type": "code",
   "execution_count": 10,
   "metadata": {},
   "outputs": [
    {
     "name": "stdout",
     "output_type": "stream",
     "text": [
      "Searching for songs by Taylor Swift...\n",
      "\n",
      "Song 1: \"Lover\"\n",
      "Song 2: \"Look What You Made Me Do\"\n",
      "Song 3: \"End Game\"\n",
      "Song 4: \"ME!\"\n",
      "Song 5: \"You Need To Calm Down\"\n",
      "Song 6: \"...Ready for It?\"\n",
      "Song 7: \"Blank Space\"\n",
      "Song 8: \"Bad Blood (Remix)\"\n",
      "Song 9: \"Call It What You Want\"\n",
      "Song 10: \"Delicate\"\n",
      "Song 11: \"Style\"\n",
      "Song 12: \"Cruel Summer\"\n",
      "Song 13: \"Gorgeous\"\n",
      "Song 14: \"Don’t Blame Me\"\n",
      "Song 15: \"I Did Something Bad\"\n",
      "Song 16: \"The Man\"\n",
      "Song 17: \"Dress\"\n",
      "Song 18: \"The Archer\"\n",
      "Song 19: \"Bad Blood\"\n",
      "Song 20: \"London Boy\"\n",
      "Song 21: \"Miss Americana & The Heartbreak Prince\"\n",
      "Song 22: \"Getaway Car\"\n",
      "Song 23: \"Cornelia Street\"\n",
      "Song 24: \"King of My Heart\"\n",
      "Song 25: \"I Forgot That You Existed\"\n",
      "Song 26: \"Daylight\"\n",
      "Song 27: \"New Year’s Day\"\n",
      "Song 28: \"Death by a Thousand Cuts\"\n",
      "Song 29: \"So It Goes...\"\n",
      "Song 30: \"Wildest Dreams\"\n",
      "Song 31: \"Paper Rings\"\n",
      "Song 32: \"This Is Why We Can’t Have Nice Things\"\n",
      "Song 33: \"False God\"\n",
      "Song 34: \"I Think He Knows\"\n",
      "Song 35: \"Love Story\"\n",
      "Song 36: \"Soon You’ll Get Better\"\n",
      "Song 37: \"Afterglow\"\n",
      "Song 38: \"Dancing with Our Hands Tied\"\n",
      "Song 39: \"All Too Well\"\n",
      "Song 40: \"Shake It Off\"\n",
      "Song 41: \"Clean\"\n",
      "Song 42: \"It’s Nice to Have a Friend\"\n",
      "Song 43: \"Out of the Woods\"\n",
      "Song 44: \"Why She Disappeared [Poem]\"\n",
      "Song 45: \"You Belong with Me\"\n",
      "Song 46: \"I Knew You Were Trouble\"\n",
      "Song 47: \"New Romantics\"\n",
      "Song 48: \"Lover (Remix)\"\n",
      "Song 49: \"22\"\n",
      "Song 50: \"We Are Never Ever Getting Back Together\"\n",
      "Song 51: \"Wonderland\"\n",
      "Song 52: \"You Are in Love\"\n",
      "Song 53: \"Everything Has Changed\"\n",
      "Song 54: \"Safe & Sound\"\n",
      "Song 55: \"This Love\"\n",
      "Song 56: \"All You Had to Do Was Stay\"\n",
      "Song 57: \"I Know Places\"\n",
      "Song 58: \"Reputation [Prologue]\"\n",
      "Song 59: \"State of Grace\"\n",
      "Song 60: \"If You’re Anything Like Me [Poem]\"\n",
      "Song 61: \"Red\"\n",
      "Song 62: \"Dear John\"\n",
      "Song 63: \"Only The Young\"\n",
      "Song 64: \"Welcome to New York\"\n",
      "Song 65: \"I Wish You Would\"\n",
      "Song 66: \"Enchanted\"\n",
      "Song 67: \"How You Get the Girl\"\n",
      "Song 68: \"Last Kiss\"\n",
      "Song 69: \"Begin Again\"\n",
      "Song 70: \"Beautiful Ghosts\"\n",
      "Song 71: \"Mine\"\n",
      "Song 72: \"Back to December\"\n",
      "Song 73: \"Christmas Tree Farm\"\n",
      "Song 74: \"Holy Ground\"\n",
      "Song 75: \"Treacherous\"\n",
      "Song 76: \"Mean\"\n",
      "Song 77: \"Long Live\"\n",
      "Song 78: \"Teardrops On My Guitar\"\n",
      "Song 79: \"The Moment I Knew\"\n",
      "Song 80: \"The Last Time\"\n",
      "Song 81: \"Fifteen\"\n",
      "Song 82: \"The Lucky One\"\n",
      "Song 83: \"Sad Beautiful Tragic\"\n",
      "Song 84: \"Innocent\"\n",
      "Song 85: \"Better Than Revenge\"\n",
      "Song 86: \"Sparks Fly\"\n",
      "Song 87: \"White Horse\"\n",
      "Song 88: \"Our Song\"\n",
      "Song 89: \"I Almost Do\"\n",
      "Song 90: \"Fearless\"\n",
      "Song 91: \"The Story of Us\"\n",
      "Song 92: \"Breathe\"\n",
      "Song 93: \"Starlight\"\n",
      "Song 94: \"Haunted\"\n",
      "Song 95: \"Come Back... Be Here\"\n",
      "Song 96: \"Picture to Burn\"\n",
      "Song 97: \"Forever & Always\"\n",
      "Song 98: \"Ours\"\n",
      "Song 99: \"I Knew You Were Trouble (Intro)\"\n",
      "Song 100: \"Red (Original Demo Recording)\"\n",
      "\n",
      "Reached user-specified song limit (100).\n",
      "Done. Found 100 songs.\n",
      "Wrote `Lyrics_TaylorSwift.json`\n"
     ]
    }
   ],
   "source": [
    "for artist_name in artist_names:\n",
    "    artist = api.search_artist(artist_name, max_songs=NUM_OF_SONGS)\n",
    "    artist.save_lyrics()"
   ]
  },
  {
   "cell_type": "markdown",
   "metadata": {},
   "source": [
    "### Clean the Data\n",
    "Remove excess JSON data and write to a new file, just with the lyrics"
   ]
  },
  {
   "cell_type": "code",
   "execution_count": 13,
   "metadata": {},
   "outputs": [
    {
     "name": "stderr",
     "output_type": "stream",
     "text": [
      "100%|██████████| 2/2 [00:00<00:00, 20.04it/s]\n"
     ]
    }
   ],
   "source": [
    "for artist in tqdm(artist_names):\n",
    "    a_mod = artist.replace(' ', '')\n",
    "    filename = f'Lyrics_{a_mod}.json'\n",
    "    with open(f'./data/{filename}') as f:\n",
    "        data = json.load(f)\n",
    "        song_obj = {}\n",
    "        song_obj[artist] = []\n",
    "        for song in data['songs']:\n",
    "            song_obj[artist].append(song['lyrics'])\n",
    "        with open(f'./data/cleaned/{artist}.json', 'w') as outfile:\n",
    "            json.dump(song_obj, outfile)"
   ]
  },
  {
   "cell_type": "markdown",
   "metadata": {},
   "source": [
    "### Extract, tokenize, and one hot encode data to X, Y vectors"
   ]
  },
  {
   "cell_type": "code",
   "execution_count": 53,
   "metadata": {},
   "outputs": [],
   "source": [
    "# get basic X, Y sets for training + testing\n",
    "# X is song lyrics\n",
    "# Y is the one-hot encoding of the artists\n",
    "X = []\n",
    "Y = []\n",
    "NUM_OF_ARTISTS = len(list(os.listdir('./data/cleaned'))) - 1\n",
    "\n",
    "index = 0\n",
    "for filename in os.listdir('./data/cleaned'):\n",
    "    with open(f'./data/cleaned/{filename}') as file:\n",
    "        if filename == '.DS_Store': continue\n",
    "        data = json.load(file)[filename.replace('.json', '')]\n",
    "        if len(data) == 100:\n",
    "            for song in data:\n",
    "                X.append(song)\n",
    "                # one hot encode artist\n",
    "                one_h = np.zeros(NUM_OF_ARTISTS)\n",
    "                one_h[index] = 1\n",
    "                Y.append(one_h)\n",
    "            index += 1"
   ]
  },
  {
   "cell_type": "code",
   "execution_count": 54,
   "metadata": {},
   "outputs": [
    {
     "name": "stdout",
     "output_type": "stream",
     "text": [
      "(938, 100)\n",
      "(938, 10)\n"
     ]
    }
   ],
   "source": [
    "# create encoding of words\n",
    "# i.e. map words to numbers\n",
    "big_word_list = {}\n",
    "for song in X:\n",
    "    for word in song.split(' '):\n",
    "        if word not in big_word_list.keys():\n",
    "            if (len(big_word_list.keys()) == 0):\n",
    "                big_word_list[word] = 1\n",
    "            else:\n",
    "                big_word_list[word] = len(big_word_list) + 1\n",
    "                \n",
    "# tokenize the songs\n",
    "# so we are mapping each word to it's key in the big_word_list\n",
    "token_x = []\n",
    "for song in X:\n",
    "    new_song = []\n",
    "    for word in song.split(' '):\n",
    "        new_song.append(big_word_list[word])\n",
    "    token_x.append(np.array(new_song))\n",
    "X = token_x\n",
    "\n",
    "# cutting off lyrics min 100 words\n",
    "# to normalize network input\n",
    "cutoff = 100\n",
    "index = 0\n",
    "new_x = []\n",
    "new_y = []\n",
    "for song in X:\n",
    "    if (len(song) >= cutoff):\n",
    "        new_x.append(song)\n",
    "        new_y.append(Y[index])\n",
    "    index += 1\n",
    "\n",
    "X = new_x\n",
    "Y = new_y\n",
    "\n",
    "# trim all of the lyrics to 100 words max,\n",
    "# so the network input in normalized\n",
    "trimmed = []\n",
    "for song in X:\n",
    "    song = song[:100]\n",
    "    trimmed.append(song)\n",
    "X = trimmed\n",
    "\n",
    "# convert to numpy arrays for keras\n",
    "X = np.array(X)\n",
    "Y = np.array(Y)\n",
    "\n",
    "X, Y = shuffle(X, Y, random_state=0)\n",
    "\n",
    "print(X.shape)\n",
    "print(Y.shape)"
   ]
  },
  {
   "cell_type": "code",
   "execution_count": 56,
   "metadata": {},
   "outputs": [
    {
     "name": "stdout",
     "output_type": "stream",
     "text": [
      "(800, 100)\n",
      "(800, 10)\n",
      "(138, 100)\n",
      "(138, 10)\n"
     ]
    }
   ],
   "source": [
    "X_train = X[:800]\n",
    "y_train = Y[:800]\n",
    "\n",
    "X_test = X[800:]\n",
    "y_test = Y[800:]\n",
    "\n",
    "print(X_train.shape)\n",
    "print(y_train.shape)\n",
    "print(X_test.shape)\n",
    "print(y_test.shape)"
   ]
  },
  {
   "cell_type": "markdown",
   "metadata": {},
   "source": [
    "### Create model, train and evaluate"
   ]
  },
  {
   "cell_type": "code",
   "execution_count": 57,
   "metadata": {},
   "outputs": [
    {
     "name": "stdout",
     "output_type": "stream",
     "text": [
      "Model: \"sequential_5\"\n",
      "_________________________________________________________________\n",
      "Layer (type)                 Output Shape              Param #   \n",
      "=================================================================\n",
      "dense_26 (Dense)             (None, 2000)              202000    \n",
      "_________________________________________________________________\n",
      "activation_22 (Activation)   (None, 2000)              0         \n",
      "_________________________________________________________________\n",
      "dropout_5 (Dropout)          (None, 2000)              0         \n",
      "_________________________________________________________________\n",
      "dense_27 (Dense)             (None, 1500)              3001500   \n",
      "_________________________________________________________________\n",
      "activation_23 (Activation)   (None, 1500)              0         \n",
      "_________________________________________________________________\n",
      "dense_28 (Dense)             (None, 500)               750500    \n",
      "_________________________________________________________________\n",
      "dropout_6 (Dropout)          (None, 500)               0         \n",
      "_________________________________________________________________\n",
      "activation_24 (Activation)   (None, 500)               0         \n",
      "_________________________________________________________________\n",
      "dense_29 (Dense)             (None, 225)               112725    \n",
      "_________________________________________________________________\n",
      "activation_25 (Activation)   (None, 225)               0         \n",
      "_________________________________________________________________\n",
      "dense_30 (Dense)             (None, 10)                2260      \n",
      "=================================================================\n",
      "Total params: 4,068,985\n",
      "Trainable params: 4,068,985\n",
      "Non-trainable params: 0\n",
      "_________________________________________________________________\n"
     ]
    }
   ],
   "source": [
    "model = Sequential([\n",
    "    Dense(2000, input_shape=(100,)),\n",
    "    Activation('softmax'),\n",
    "    Dropout(.2),\n",
    "    Dense(1500),\n",
    "    Activation('softmax'),\n",
    "    Dense(500),\n",
    "    Dropout(.2),\n",
    "    Activation('softmax'),\n",
    "    Dense(225),\n",
    "    Activation('softmax'),\n",
    "    Dense(NUM_OF_ARTISTS)\n",
    "])\n",
    "\n",
    "model.compile(optimizer='adam',\n",
    "              loss='binary_crossentropy',\n",
    "              metrics=['accuracy'])\n",
    "\n",
    "model.summary()"
   ]
  },
  {
   "cell_type": "code",
   "execution_count": 58,
   "metadata": {},
   "outputs": [],
   "source": [
    "history = model.fit(\n",
    "        X_train, y_train,\n",
    "        epochs=100,\n",
    "        verbose=False,\n",
    "        validation_data=(X_test, y_test),\n",
    "        batch_size=64)"
   ]
  },
  {
   "cell_type": "code",
   "execution_count": 59,
   "metadata": {},
   "outputs": [
    {
     "name": "stdout",
     "output_type": "stream",
     "text": [
      "Training Accuracy: 0.9000\n",
      "Testing Accuracy:  0.9000\n"
     ]
    }
   ],
   "source": [
    "loss, accuracy = model.evaluate(X_train, y_train, verbose=False)\n",
    "print(\"Training Accuracy: {:.4f}\".format(accuracy))\n",
    "loss, accuracy = model.evaluate(X_test, y_test, verbose=False)\n",
    "print(\"Testing Accuracy:  {:.4f}\".format(accuracy))"
   ]
  },
  {
   "cell_type": "code",
   "execution_count": 60,
   "metadata": {},
   "outputs": [
    {
     "data": {
      "image/png": "[encoded data removed]",
      "text/plain": [
       "<Figure size 864x360 with 2 Axes>"
      ]
     },
     "metadata": {},
     "output_type": "display_data"
    }
   ],
   "source": [
    "plt.style.use('ggplot')\n",
    "\n",
    "def plot_history(history):\n",
    "    acc = history.history['accuracy']\n",
    "    val_acc = history.history['val_accuracy']\n",
    "    loss = history.history['loss']\n",
    "    val_loss = history.history['val_loss']\n",
    "    x = range(1, len(acc) + 1)\n",
    "\n",
    "    plt.figure(figsize=(12, 5))\n",
    "    plt.subplot(1, 2, 1)\n",
    "    plt.plot(x, acc, 'b', label='Training acc')\n",
    "    plt.plot(x, val_acc, 'r', label='Validation acc')\n",
    "    plt.title('Training and validation accuracy')\n",
    "    plt.legend()\n",
    "    plt.subplot(1, 2, 2)\n",
    "    plt.plot(x, loss, 'b', label='Training loss')\n",
    "    plt.plot(x, val_loss, 'r', label='Validation loss')\n",
    "    plt.title('Training and validation loss')\n",
    "    plt.legend()\n",
    "    \n",
    "plot_history(history)"
   ]
  },
  {
   "cell_type": "code",
   "execution_count": null,
   "metadata": {},
   "outputs": [],
   "source": []
  }
 ],
 "metadata": {
  "kernelspec": {
   "display_name": "Python 3",
   "language": "python",
   "name": "python3"
  },
  "language_info": {
   "codemirror_mode": {
    "name": "ipython",
    "version": 3
   },
   "file_extension": ".py",
   "mimetype": "text/x-python",
   "name": "python",
   "nbconvert_exporter": "python",
   "pygments_lexer": "ipython3",
   "version": "3.6.1"
  }
 },
 "nbformat": 4,
 "nbformat_minor": 4
}
