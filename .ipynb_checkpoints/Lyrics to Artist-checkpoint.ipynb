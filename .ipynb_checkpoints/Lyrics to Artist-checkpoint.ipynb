{
 "cells": [
  {
   "cell_type": "markdown",
   "metadata": {},
   "source": [
    "# Lyrics to Artist\n",
    "\n",
    "We train a neural network on lyrics from 10 different artists. Each artist has 100 songs to train on, and then we test the network"
   ]
  },
  {
   "cell_type": "markdown",
   "metadata": {},
   "source": [
    "### Libraries, API, and constants setup"
   ]
  },
  {
   "cell_type": "code",
   "execution_count": 2,
   "metadata": {},
   "outputs": [
    {
     "name": "stderr",
     "output_type": "stream",
     "text": [
      "Using TensorFlow backend.\n"
     ]
    }
   ],
   "source": [
    "import lyricsgenius as genius\n",
    "import os\n",
    "import json\n",
    "from sklearn.utils import shuffle\n",
    "from tqdm import tqdm\n",
    "import matplotlib.pylab as plt\n",
    "import numpy as np\n",
    "import keras\n",
    "from keras.models import Sequential\n",
    "from keras.layers import Dense, Activation, Dropout\n",
    "from keras.optimizers import SGD\n",
    "\n",
    "# Duncan's API key, change to your own if you are downloading data\n",
    "geniusCreds = 'Lw6NjXtbU7NndUFHRCcOX9FdLhPzVokLIt9c4LWzsTxM10wF7EICGtWSSso8Ohsq'\n",
    "NUM_OF_SONGS = 100\n",
    "\n",
    "artist_names = [\n",
    "    'James Taylor',\n",
    "    'The Beatles',\n",
    "    'Johnny Cash',\n",
    "    'Van Morrison',\n",
    "    'Bob Dylan',\n",
    "    'Fleetwood Mac',\n",
    "    'Lil Wayne',\n",
    "    'J. Cole',\n",
    "    'Taylor Swift',\n",
    "    'Beyoncé'\n",
    "]\n",
    "\n",
    "api = genius.Genius(geniusCreds)\n",
    "genius.skip_non_songs = True\n",
    "genius.excluded_terms = [\"(Remix)\", \"(Live)\"]"
   ]
  },
  {
   "cell_type": "markdown",
   "metadata": {},
   "source": [
    "### Download Raw Lyric Data"
   ]
  },
  {
   "cell_type": "code",
   "execution_count": 10,
   "metadata": {},
   "outputs": [
    {
     "name": "stdout",
     "output_type": "stream",
     "text": [
      "Searching for songs by Taylor Swift...\n",
      "\n",
      "Song 1: \"Lover\"\n",
      "Song 2: \"Look What You Made Me Do\"\n",
      "Song 3: \"End Game\"\n",
      "Song 4: \"ME!\"\n",
      "Song 5: \"You Need To Calm Down\"\n",
      "Song 6: \"...Ready for It?\"\n",
      "Song 7: \"Blank Space\"\n",
      "Song 8: \"Bad Blood (Remix)\"\n",
      "Song 9: \"Call It What You Want\"\n",
      "Song 10: \"Delicate\"\n",
      "Song 11: \"Style\"\n",
      "Song 12: \"Cruel Summer\"\n",
      "Song 13: \"Gorgeous\"\n",
      "Song 14: \"Don’t Blame Me\"\n",
      "Song 15: \"I Did Something Bad\"\n",
      "Song 16: \"The Man\"\n",
      "Song 17: \"Dress\"\n",
      "Song 18: \"The Archer\"\n",
      "Song 19: \"Bad Blood\"\n",
      "Song 20: \"London Boy\"\n",
      "Song 21: \"Miss Americana & The Heartbreak Prince\"\n",
      "Song 22: \"Getaway Car\"\n",
      "Song 23: \"Cornelia Street\"\n",
      "Song 24: \"King of My Heart\"\n",
      "Song 25: \"I Forgot That You Existed\"\n",
      "Song 26: \"Daylight\"\n",
      "Song 27: \"New Year’s Day\"\n",
      "Song 28: \"Death by a Thousand Cuts\"\n",
      "Song 29: \"So It Goes...\"\n",
      "Song 30: \"Wildest Dreams\"\n",
      "Song 31: \"Paper Rings\"\n",
      "Song 32: \"This Is Why We Can’t Have Nice Things\"\n",
      "Song 33: \"False God\"\n",
      "Song 34: \"I Think He Knows\"\n",
      "Song 35: \"Love Story\"\n",
      "Song 36: \"Soon You’ll Get Better\"\n",
      "Song 37: \"Afterglow\"\n",
      "Song 38: \"Dancing with Our Hands Tied\"\n",
      "Song 39: \"All Too Well\"\n",
      "Song 40: \"Shake It Off\"\n",
      "Song 41: \"Clean\"\n",
      "Song 42: \"It’s Nice to Have a Friend\"\n",
      "Song 43: \"Out of the Woods\"\n",
      "Song 44: \"Why She Disappeared [Poem]\"\n",
      "Song 45: \"You Belong with Me\"\n",
      "Song 46: \"I Knew You Were Trouble\"\n",
      "Song 47: \"New Romantics\"\n",
      "Song 48: \"Lover (Remix)\"\n",
      "Song 49: \"22\"\n",
      "Song 50: \"We Are Never Ever Getting Back Together\"\n",
      "Song 51: \"Wonderland\"\n",
      "Song 52: \"You Are in Love\"\n",
      "Song 53: \"Everything Has Changed\"\n",
      "Song 54: \"Safe & Sound\"\n",
      "Song 55: \"This Love\"\n",
      "Song 56: \"All You Had to Do Was Stay\"\n",
      "Song 57: \"I Know Places\"\n",
      "Song 58: \"Reputation [Prologue]\"\n",
      "Song 59: \"State of Grace\"\n",
      "Song 60: \"If You’re Anything Like Me [Poem]\"\n",
      "Song 61: \"Red\"\n",
      "Song 62: \"Dear John\"\n",
      "Song 63: \"Only The Young\"\n",
      "Song 64: \"Welcome to New York\"\n",
      "Song 65: \"I Wish You Would\"\n",
      "Song 66: \"Enchanted\"\n",
      "Song 67: \"How You Get the Girl\"\n",
      "Song 68: \"Last Kiss\"\n",
      "Song 69: \"Begin Again\"\n",
      "Song 70: \"Beautiful Ghosts\"\n",
      "Song 71: \"Mine\"\n",
      "Song 72: \"Back to December\"\n",
      "Song 73: \"Christmas Tree Farm\"\n",
      "Song 74: \"Holy Ground\"\n",
      "Song 75: \"Treacherous\"\n",
      "Song 76: \"Mean\"\n",
      "Song 77: \"Long Live\"\n",
      "Song 78: \"Teardrops On My Guitar\"\n",
      "Song 79: \"The Moment I Knew\"\n",
      "Song 80: \"The Last Time\"\n",
      "Song 81: \"Fifteen\"\n",
      "Song 82: \"The Lucky One\"\n",
      "Song 83: \"Sad Beautiful Tragic\"\n",
      "Song 84: \"Innocent\"\n",
      "Song 85: \"Better Than Revenge\"\n",
      "Song 86: \"Sparks Fly\"\n",
      "Song 87: \"White Horse\"\n",
      "Song 88: \"Our Song\"\n",
      "Song 89: \"I Almost Do\"\n",
      "Song 90: \"Fearless\"\n",
      "Song 91: \"The Story of Us\"\n",
      "Song 92: \"Breathe\"\n",
      "Song 93: \"Starlight\"\n",
      "Song 94: \"Haunted\"\n",
      "Song 95: \"Come Back... Be Here\"\n",
      "Song 96: \"Picture to Burn\"\n",
      "Song 97: \"Forever & Always\"\n",
      "Song 98: \"Ours\"\n",
      "Song 99: \"I Knew You Were Trouble (Intro)\"\n",
      "Song 100: \"Red (Original Demo Recording)\"\n",
      "\n",
      "Reached user-specified song limit (100).\n",
      "Done. Found 100 songs.\n",
      "Wrote `Lyrics_TaylorSwift.json`\n"
     ]
    }
   ],
   "source": [
    "for artist_name in artist_names:\n",
    "    artist = api.search_artist(artist_name, max_songs=NUM_OF_SONGS)\n",
    "    artist.save_lyrics()"
   ]
  },
  {
   "cell_type": "markdown",
   "metadata": {},
   "source": [
    "### Clean the Data\n",
    "Remove excess JSON data and write to a new file, just with the lyrics"
   ]
  },
  {
   "cell_type": "code",
   "execution_count": 11,
   "metadata": {},
   "outputs": [
    {
     "name": "stderr",
     "output_type": "stream",
     "text": [
      "  0%|          | 0/10 [00:00<?, ?it/s]\n"
     ]
    },
    {
     "ename": "FileNotFoundError",
     "evalue": "[Errno 2] No such file or directory: './data/Lyrics_JamesTaylor.json'",
     "output_type": "error",
     "traceback": [
      "\u001b[0;31m---------------------------------------------------------------------------\u001b[0m",
      "\u001b[0;31mFileNotFoundError\u001b[0m                         Traceback (most recent call last)",
      "\u001b[0;32m<ipython-input-11-f3caa6c0f0af>\u001b[0m in \u001b[0;36m<module>\u001b[0;34m\u001b[0m\n\u001b[1;32m      2\u001b[0m     \u001b[0ma_mod\u001b[0m \u001b[0;34m=\u001b[0m \u001b[0martist\u001b[0m\u001b[0;34m.\u001b[0m\u001b[0mreplace\u001b[0m\u001b[0;34m(\u001b[0m\u001b[0;34m' '\u001b[0m\u001b[0;34m,\u001b[0m \u001b[0;34m''\u001b[0m\u001b[0;34m)\u001b[0m\u001b[0;34m\u001b[0m\u001b[0m\n\u001b[1;32m      3\u001b[0m     \u001b[0mfilename\u001b[0m \u001b[0;34m=\u001b[0m \u001b[0;34mf'Lyrics_{a_mod}.json'\u001b[0m\u001b[0;34m\u001b[0m\u001b[0m\n\u001b[0;32m----> 4\u001b[0;31m     \u001b[0;32mwith\u001b[0m \u001b[0mopen\u001b[0m\u001b[0;34m(\u001b[0m\u001b[0;34mf'./data/{filename}'\u001b[0m\u001b[0;34m)\u001b[0m \u001b[0;32mas\u001b[0m \u001b[0mf\u001b[0m\u001b[0;34m:\u001b[0m\u001b[0;34m\u001b[0m\u001b[0m\n\u001b[0m\u001b[1;32m      5\u001b[0m         \u001b[0mdata\u001b[0m \u001b[0;34m=\u001b[0m \u001b[0mjson\u001b[0m\u001b[0;34m.\u001b[0m\u001b[0mload\u001b[0m\u001b[0;34m(\u001b[0m\u001b[0mf\u001b[0m\u001b[0;34m)\u001b[0m\u001b[0;34m\u001b[0m\u001b[0m\n\u001b[1;32m      6\u001b[0m         \u001b[0msong_obj\u001b[0m \u001b[0;34m=\u001b[0m \u001b[0;34m{\u001b[0m\u001b[0;34m}\u001b[0m\u001b[0;34m\u001b[0m\u001b[0m\n",
      "\u001b[0;31mFileNotFoundError\u001b[0m: [Errno 2] No such file or directory: './data/Lyrics_JamesTaylor.json'"
     ]
    }
   ],
   "source": [
    "for artist in tqdm(artist_names):\n",
    "    a_mod = artist.replace(' ', '')\n",
    "    filename = f'Lyrics_{a_mod}.json'\n",
    "    with open(f'./data/{filename}') as f:\n",
    "        data = json.load(f)\n",
    "        song_obj = {}\n",
    "        song_obj[artist] = []\n",
    "        for song in data['songs']:\n",
    "            song_obj[artist].append(song['lyrics'])\n",
    "        with open(f'./data/cleaned/{artist}.json', 'w') as outfile:\n",
    "            json.dump(song_obj, outfile)"
   ]
  },
  {
   "cell_type": "markdown",
   "metadata": {},
   "source": [
    "### Extract, tokenize, and one hot encode data to X, Y vectors"
   ]
  },
  {
   "cell_type": "code",
   "execution_count": 8,
   "metadata": {},
   "outputs": [
    {
     "name": "stdout",
     "output_type": "stream",
     "text": [
      "(971, 100)\n",
      "(971, 10)\n"
     ]
    }
   ],
   "source": [
    "# get basic X, Y sets for training + testing\n",
    "# X is song lyrics\n",
    "# Y is the one-hot encoding of the artists\n",
    "X = []\n",
    "Y = []\n",
    "NUM_OF_ARTISTS = len(list(os.listdir('./data/cleaned'))) - 1\n",
    "artist_index_map = {}\n",
    "\n",
    "def clean_word(word):\n",
    "    word = word.replace('\\n', '')\n",
    "    word = word.replace('[', '')\n",
    "    word = word.replace(']', '')\n",
    "    word = word.replace(':', '')\n",
    "    return word\n",
    "\n",
    "index = 0\n",
    "for filename in os.listdir('./data/cleaned'):\n",
    "    with open(f'./data/cleaned/{filename}') as file:\n",
    "        if filename == '.DS_Store': continue\n",
    "        data = json.load(file)[filename.replace('.json', '')]\n",
    "        if len(data) == 100:\n",
    "            for song in data:\n",
    "                \n",
    "                X.append(song)\n",
    "                # one hot encode artist\n",
    "                one_h = np.zeros(NUM_OF_ARTISTS)\n",
    "                one_h[index] = 1\n",
    "                artist_index_map[index] = filename.replace('.json', '')\n",
    "                Y.append(one_h)\n",
    "            index += 1\n",
    "\n",
    "# create encoding of words\n",
    "# i.e. map words to numbers\n",
    "big_word_list = {}\n",
    "for song in X:\n",
    "    for line in song.split('\\n'):\n",
    "        for word in line.split(' '):\n",
    "            word = clean_word(word)\n",
    "            if word not in big_word_list.keys():\n",
    "                if (len(big_word_list.keys()) == 0):\n",
    "                    big_word_list[word] = 1\n",
    "                else:\n",
    "                    big_word_list[word] = len(big_word_list) + 1\n",
    "                \n",
    "# tokenize the songs\n",
    "# so we are mapping each word to it's key in the big_word_list\n",
    "token_x = []\n",
    "for song in X:\n",
    "    new_song = []\n",
    "    for line in song.split('\\n'):\n",
    "        for word in line.split(' '):\n",
    "            word = clean_word(word)\n",
    "            new_song.append(big_word_list[word])\n",
    "    token_x.append(np.array(new_song))\n",
    "X = token_x\n",
    "\n",
    "# cutting off lyrics min 100 words\n",
    "# to normalize network input\n",
    "cutoff = 100\n",
    "index = 0\n",
    "new_x = []\n",
    "new_y = []\n",
    "for song in X:\n",
    "    if (len(song) >= cutoff):\n",
    "        new_x.append(song)\n",
    "        new_y.append(Y[index])\n",
    "    index += 1\n",
    "X = new_x\n",
    "Y = new_y\n",
    "\n",
    "# trim all of the lyrics to 100 words max,\n",
    "# so the network input in normalized\n",
    "trimmed = []\n",
    "for song in X:\n",
    "    song = song[:100]\n",
    "    trimmed.append(song)\n",
    "X = trimmed\n",
    "\n",
    "# convert to numpy arrays for keras\n",
    "X = np.array(X)\n",
    "Y = np.array(Y)\n",
    "\n",
    "# X, Y = shuffle(X, Y, random_state=0)\n",
    "\n",
    "print(X.shape)\n",
    "print(Y.shape)"
   ]
  },
  {
   "cell_type": "code",
   "execution_count": 10,
   "metadata": {},
   "outputs": [
    {
     "name": "stdout",
     "output_type": "stream",
     "text": [
      "(873, 100)\n",
      "(873, 10)\n",
      "(98, 100)\n",
      "(98, 10)\n"
     ]
    }
   ],
   "source": [
    "from sklearn.model_selection import train_test_split\n",
    "\n",
    "# X_train = X[:800]\n",
    "# y_train = Y[:800]\n",
    "\n",
    "# X_test = X[800:]\n",
    "# y_test = Y[800:]\n",
    "\n",
    "X_train, X_test, y_train, y_test = train_test_split(X,Y, test_size = 0.10, random_state = 42)\n",
    "\n",
    "print(X_train.shape)\n",
    "print(y_train.shape)\n",
    "print(X_test.shape)\n",
    "print(y_test.shape)"
   ]
  },
  {
   "cell_type": "code",
   "execution_count": 38,
   "metadata": {},
   "outputs": [],
   "source": [
    "def artist_from_output(out):\n",
    "    index = np.argmax(out)\n",
    "    return artist_index_map[index]\n",
    "\n",
    "def tokenize_text(text):\n",
    "    tokens = []\n",
    "    for word in text:\n",
    "        word = clean_word(word)\n",
    "        if word in big_word_list.keys():\n",
    "            tokens.append(big_word_list[word])\n",
    "        else:\n",
    "            tokens.append(1)\n",
    "#             tokens.append(len(big_word_list) + 1)\n",
    "#             big_word_list[word] = len(big_word_list) + 1\n",
    "    tokens = np.array(tokens)\n",
    "    return tokens\n",
    "\n",
    "def text_from_tokens(tokens):\n",
    "    text = []\n",
    "    for token in tokens:\n",
    "        index = 0\n",
    "        for entry in big_word_list.values():\n",
    "            if token == entry:\n",
    "                text.append(list(big_word_list.keys())[index])\n",
    "            index += 1\n",
    "    return text"
   ]
  },
  {
   "cell_type": "markdown",
   "metadata": {},
   "source": [
    "### Create model, train and evaluate"
   ]
  },
  {
   "cell_type": "code",
   "execution_count": 19,
   "metadata": {},
   "outputs": [],
   "source": [
    "from keras.layers import Embedding, SpatialDropout1D, LSTM\n",
    "model = Sequential()\n",
    "model.add(Embedding(len(big_word_list), 100, input_length=X.shape[1]))\n",
    "model.add(SpatialDropout1D(0.2))\n",
    "model.add(LSTM(100, dropout=0.2, recurrent_dropout=0.2))\n",
    "model.add(Dense(10, activation='softmax'))\n",
    "model.compile(loss='categorical_crossentropy', optimizer='adam', metrics=['accuracy'])"
   ]
  },
  {
   "cell_type": "code",
   "execution_count": 20,
   "metadata": {},
   "outputs": [
    {
     "name": "stderr",
     "output_type": "stream",
     "text": [
      "/Users/duncangrubbs/.pyenv/versions/3.6.1/lib/python3.6/site-packages/tensorflow_core/python/framework/indexed_slices.py:433: UserWarning: Converting sparse IndexedSlices to a dense Tensor of unknown shape. This may consume a large amount of memory.\n",
      "  \"Converting sparse IndexedSlices to a dense Tensor of unknown shape. \"\n"
     ]
    },
    {
     "name": "stdout",
     "output_type": "stream",
     "text": [
      "Train on 785 samples, validate on 88 samples\n",
      "Epoch 1/25\n",
      "785/785 [==============================] - 3s 4ms/step - loss: 2.3018 - accuracy: 0.0994 - val_loss: 2.3023 - val_accuracy: 0.0909\n",
      "Epoch 2/25\n",
      "785/785 [==============================] - 2s 3ms/step - loss: 2.2852 - accuracy: 0.2675 - val_loss: 2.2991 - val_accuracy: 0.1250\n",
      "Epoch 3/25\n",
      "785/785 [==============================] - 2s 3ms/step - loss: 2.2335 - accuracy: 0.3299 - val_loss: 2.1973 - val_accuracy: 0.2159\n",
      "Epoch 4/25\n",
      "785/785 [==============================] - 2s 3ms/step - loss: 2.1125 - accuracy: 0.3490 - val_loss: 2.3154 - val_accuracy: 0.1932\n",
      "Epoch 5/25\n",
      "785/785 [==============================] - 2s 3ms/step - loss: 2.0086 - accuracy: 0.3796 - val_loss: 2.0473 - val_accuracy: 0.2273\n",
      "Epoch 6/25\n",
      "785/785 [==============================] - 2s 2ms/step - loss: 1.8141 - accuracy: 0.3860 - val_loss: 2.0315 - val_accuracy: 0.1705\n",
      "Epoch 7/25\n",
      "785/785 [==============================] - 2s 3ms/step - loss: 1.7220 - accuracy: 0.5146 - val_loss: 2.0873 - val_accuracy: 0.2273\n",
      "Epoch 8/25\n",
      "785/785 [==============================] - 2s 3ms/step - loss: 1.5979 - accuracy: 0.5248 - val_loss: 1.9351 - val_accuracy: 0.2386\n",
      "Epoch 9/25\n",
      "785/785 [==============================] - 2s 3ms/step - loss: 1.5110 - accuracy: 0.5414 - val_loss: 1.9000 - val_accuracy: 0.2159\n",
      "Epoch 10/25\n",
      "785/785 [==============================] - 2s 3ms/step - loss: 1.3752 - accuracy: 0.6624 - val_loss: 2.0014 - val_accuracy: 0.2727\n",
      "Epoch 11/25\n",
      "785/785 [==============================] - 2s 2ms/step - loss: 1.2230 - accuracy: 0.6917 - val_loss: 1.8968 - val_accuracy: 0.3182\n",
      "Epoch 12/25\n",
      "785/785 [==============================] - 2s 2ms/step - loss: 1.1057 - accuracy: 0.7287 - val_loss: 1.8982 - val_accuracy: 0.2955\n",
      "Epoch 13/25\n",
      "785/785 [==============================] - 2s 2ms/step - loss: 0.9402 - accuracy: 0.7936 - val_loss: 1.9002 - val_accuracy: 0.3750\n",
      "Epoch 14/25\n",
      "785/785 [==============================] - 2s 3ms/step - loss: 0.7923 - accuracy: 0.8446 - val_loss: 1.9237 - val_accuracy: 0.3182\n",
      "Epoch 15/25\n",
      "785/785 [==============================] - 2s 2ms/step - loss: 0.6675 - accuracy: 0.8535 - val_loss: 1.8830 - val_accuracy: 0.3523\n",
      "Epoch 16/25\n",
      "785/785 [==============================] - 2s 2ms/step - loss: 0.5637 - accuracy: 0.9006 - val_loss: 2.0034 - val_accuracy: 0.3295\n",
      "Epoch 17/25\n",
      "785/785 [==============================] - 2s 2ms/step - loss: 0.5188 - accuracy: 0.8955 - val_loss: 1.9155 - val_accuracy: 0.2727\n",
      "Epoch 18/25\n",
      "785/785 [==============================] - 2s 2ms/step - loss: 0.4594 - accuracy: 0.8981 - val_loss: 1.9089 - val_accuracy: 0.3750\n",
      "Epoch 19/25\n",
      "785/785 [==============================] - 2s 3ms/step - loss: 0.3601 - accuracy: 0.9503 - val_loss: 1.8213 - val_accuracy: 0.3864\n",
      "Epoch 20/25\n",
      "785/785 [==============================] - 2s 2ms/step - loss: 0.2970 - accuracy: 0.9516 - val_loss: 1.9958 - val_accuracy: 0.3409\n",
      "Epoch 21/25\n",
      "785/785 [==============================] - 2s 2ms/step - loss: 0.2492 - accuracy: 0.9682 - val_loss: 2.0681 - val_accuracy: 0.3636\n",
      "Epoch 22/25\n",
      "785/785 [==============================] - 2s 2ms/step - loss: 0.1890 - accuracy: 0.9834 - val_loss: 2.0328 - val_accuracy: 0.3636\n",
      "Epoch 23/25\n",
      "785/785 [==============================] - 2s 2ms/step - loss: 0.2092 - accuracy: 0.9631 - val_loss: 2.0340 - val_accuracy: 0.3409\n",
      "Epoch 24/25\n",
      "785/785 [==============================] - 2s 3ms/step - loss: 0.1445 - accuracy: 0.9796 - val_loss: 2.0809 - val_accuracy: 0.3295\n",
      "Epoch 25/25\n",
      "785/785 [==============================] - 2s 3ms/step - loss: 0.1422 - accuracy: 0.9771 - val_loss: 2.1114 - val_accuracy: 0.3636\n"
     ]
    }
   ],
   "source": [
    "epochs = 25\n",
    "batch_size = 64\n",
    "history = model.fit(X_train, y_train, epochs=epochs, batch_size=batch_size, validation_split=0.1)"
   ]
  },
  {
   "cell_type": "code",
   "execution_count": 44,
   "metadata": {},
   "outputs": [
    {
     "name": "stdout",
     "output_type": "stream",
     "text": [
      "Taylor Swift\n",
      "['Verse', '1', 'We', 'could', 'leave', 'the', 'Christmas', 'lights', 'up', \"'til\"]\n",
      "Taylor Swift\n",
      "['Verse', '1', 'I', \"don't\", 'like', 'your', 'little', 'games', \"Don't\", 'like']\n",
      "Taylor Swift\n",
      "['Chorus', 'Taylor', 'Swift', '&', 'Future', 'I', 'wanna', 'be', 'your', 'end']\n",
      "Taylor Swift\n",
      "['Intro', 'Taylor', 'Swift', 'I', 'promise', 'that', \"you'll\", 'never', 'find', 'another']\n"
     ]
    }
   ],
   "source": [
    "for i in range(4):\n",
    "    print(artist_from_output(Y[i]))\n",
    "    print(text_from_tokens(X[i][:10]))\n",
    "    \n",
    "sample_text = '''\n",
    "[Intro]\n",
    "And they wishin' and wishin' and wishin' and wishin'\n",
    "They wishin' on me, yeah\n",
    "\n",
    "[Verse 1]\n",
    "I been movin' calm, don't start no trouble with me\n",
    "Tryna keep it peaceful is a struggle for me\n",
    "Don't pull up at 6 AM to cuddle with me\n",
    "You know how I like it when you lovin' on me\n",
    "I don't wanna die for them to miss me\n",
    "Yes, I see the things that they wishin' on me\n",
    "Hope I got some brothers that outlive me\n",
    "They gon' tell the story, shit was different with me\n",
    "\n",
    "[Chorus]\n",
    "God's plan, God's plan\n",
    "I hold back, sometimes I won't, yuh\n",
    "I feel good, sometimes I don't, ayy, don't\n",
    "I finessed down Weston Road, ayy, 'nessed\n",
    "Might go down a G.O.D., yeah, wait\n",
    "I go hard on Southside G, yeah, wait\n",
    "I make sure that north-side eat\n",
    "\n",
    "[Post-Chorus]\n",
    "And still, bad things\n",
    "It's a lot of bad things\n",
    "That they wishin' and wishin' and wishin' and wishin'\n",
    "They wishin' on me\n",
    "Bad things\n",
    "It's a lot of bad things\n",
    "That they wishin' and wishin' and wishin' and wishin'\n",
    "They wishin' on me\n",
    "Yeah, ayy, ayy\n",
    "\n",
    "[Verse 2]\n",
    "She say, \"Do you love me?\" I tell her, \"Only partly\n",
    "I only love my bed and my mama, I'm sorry\"\n",
    "Fifty Dub, I even got it tatted on me\n",
    "81, they'll bring the crashers to the party\n",
    "And you know me\n",
    "Turn the O2 into the O3, dog\n",
    "Without 40, Oli, there'd be no me\n",
    "'Magine if I never met the broskies\n",
    "\n",
    "[Chorus]\n",
    "God's plan, God's plan\n",
    "I can't do this on my own, ayy, no, ayy\n",
    "Someone watchin' this shit close, yep, close\n",
    "I've been me since Scarlett Road, ayy, road, ayy\n",
    "Might go down as G.O.D., yeah, wait\n",
    "I go hard on Southside G, ayy, wait\n",
    "I make sure that north-side eat, yeah\n",
    "\n",
    "[Post-Chorus]\n",
    "And still, bad things\n",
    "It's a lot of bad things\n",
    "That they wishin' and wishin' and wishin' and wishin'\n",
    "They wishin' on me, yeah, yeah\n",
    "Bad things\n",
    "It's a lot of bad things\n",
    "That they wishin' and wishin' and wishin' and wishin'\n",
    "They wishin' on me, yeah\n",
    "'''.split(' ')[:100]\n",
    "\n",
    "inp = tokenize_text(sample_text)\n",
    "x_val = np.array([inp])\n",
    "\n",
    "# output = model.predict(x_val)\n",
    "# artist_from_output(output)"
   ]
  },
  {
   "cell_type": "code",
   "execution_count": 22,
   "metadata": {},
   "outputs": [
    {
     "name": "stdout",
     "output_type": "stream",
     "text": [
      "Training Accuracy: 0.9359\n",
      "Testing Accuracy:  0.2857\n"
     ]
    }
   ],
   "source": [
    "loss, accuracy = model.evaluate(X_train, y_train, verbose=False)\n",
    "print(\"Training Accuracy: {:.4f}\".format(accuracy))\n",
    "loss, accuracy = model.evaluate(X_test, y_test, verbose=False)\n",
    "print(\"Testing Accuracy:  {:.4f}\".format(accuracy))"
   ]
  },
  {
   "cell_type": "code",
   "execution_count": 23,
   "metadata": {},
   "outputs": [
    {
     "data": {
      "image/png": "[encoded data removed]",
      "text/plain": [
       "<Figure size 864x360 with 2 Axes>"
      ]
     },
     "metadata": {},
     "output_type": "display_data"
    }
   ],
   "source": [
    "plt.style.use('ggplot')\n",
    "\n",
    "def plot_history(history):\n",
    "    acc = history.history['accuracy']\n",
    "    val_acc = history.history['val_accuracy']\n",
    "    loss = history.history['loss']\n",
    "    val_loss = history.history['val_loss']\n",
    "    x = range(1, len(acc) + 1)\n",
    "\n",
    "    plt.figure(figsize=(12, 5))\n",
    "    plt.subplot(1, 2, 1)\n",
    "    plt.plot(x, acc, 'b', label='Training acc')\n",
    "    plt.plot(x, val_acc, 'r', label='Validation acc')\n",
    "    plt.title('Training and validation accuracy')\n",
    "    plt.legend()\n",
    "    plt.subplot(1, 2, 2)\n",
    "    plt.plot(x, loss, 'b', label='Training loss')\n",
    "    plt.plot(x, val_loss, 'r', label='Validation loss')\n",
    "    plt.title('Training and validation loss')\n",
    "    plt.legend()\n",
    "    \n",
    "plot_history(history)"
   ]
  }
 ],
 "metadata": {
  "kernelspec": {
   "display_name": "Python 3",
   "language": "python",
   "name": "python3"
  },
  "language_info": {
   "codemirror_mode": {
    "name": "ipython",
    "version": 3
   },
   "file_extension": ".py",
   "mimetype": "text/x-python",
   "name": "python",
   "nbconvert_exporter": "python",
   "pygments_lexer": "ipython3",
   "version": "3.6.1"
  }
 },
 "nbformat": 4,
 "nbformat_minor": 4
}
