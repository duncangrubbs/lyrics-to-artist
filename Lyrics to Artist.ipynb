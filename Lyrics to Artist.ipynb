{
 "cells": [
  {
   "cell_type": "code",
   "execution_count": 2,
   "metadata": {},
   "outputs": [],
   "source": [
    "import lyricsgenius as genius\n",
    "# lol don't use my API key\n",
    "geniusCreds = 'Lw6NjXtbU7NndUFHRCcOX9FdLhPzVokLIt9c4LWzsTxM10wF7EICGtWSSso8Ohsq'\n",
    "# for more data, you can adjust the number of artists as well as the max number of songs\n",
    "artist_names = [\n",
    "    'James Taylor',\n",
    "    'The Beatles',\n",
    "    'Johnny Cash',\n",
    "    'Van Morrison',\n",
    "    'Bob Dylan',\n",
    "    'James Brown',\n",
    "    'Aretha Franklin',\n",
    "    'Fleetwood Mac',\n",
    "    'J. Cole',\n",
    "    'Lil Wayne'\n",
    "]\n",
    "\n",
    "api = genius.Genius(geniusCreds)"
   ]
  },
  {
   "cell_type": "code",
   "execution_count": 3,
   "metadata": {},
   "outputs": [
    {
     "name": "stdout",
     "output_type": "stream",
     "text": [
      "Searching for songs by James Taylor...\n",
      "\n",
      "Song 1: \"Fire and Rain\"\n",
      "\n",
      "Reached user-specified song limit (1).\n",
      "Done. Found 1 songs.\n",
      "Wrote `Lyrics_JamesTaylor.json`\n",
      "Searching for songs by The Beatles...\n",
      "\n",
      "Song 1: \"Let It Be\"\n",
      "\n",
      "Reached user-specified song limit (1).\n",
      "Done. Found 1 songs.\n",
      "Wrote `Lyrics_TheBeatles.json`\n",
      "Searching for songs by Johnny Cash...\n",
      "\n",
      "Song 1: \"You Are My Sunshine\"\n",
      "\n",
      "Reached user-specified song limit (1).\n",
      "Done. Found 1 songs.\n",
      "Wrote `Lyrics_JohnnyCash.json`\n",
      "Searching for songs by Van Morrison...\n",
      "\n",
      "Song 1: \"Brown Eyed Girl\"\n",
      "\n",
      "Reached user-specified song limit (1).\n",
      "Done. Found 1 songs.\n",
      "Wrote `Lyrics_VanMorrison.json`\n",
      "Searching for songs by Bob Dylan...\n",
      "\n",
      "Song 1: \"Murder Most Foul\"\n",
      "\n",
      "Reached user-specified song limit (1).\n",
      "Done. Found 1 songs.\n",
      "Wrote `Lyrics_BobDylan.json`\n",
      "Searching for songs by James Brown...\n",
      "\n",
      "Song 1: \"It’s a Man’s World\"\n",
      "\n",
      "Reached user-specified song limit (1).\n",
      "Done. Found 1 songs.\n",
      "Wrote `Lyrics_JamesBrown.json`\n",
      "Searching for songs by Aretha Franklin...\n",
      "\n",
      "Song 1: \"Respect\"\n",
      "\n",
      "Reached user-specified song limit (1).\n",
      "Done. Found 1 songs.\n",
      "Wrote `Lyrics_ArethaFranklin.json`\n",
      "Searching for songs by Fleetwood Mac...\n",
      "\n",
      "Song 1: \"Dreams\"\n",
      "\n",
      "Reached user-specified song limit (1).\n",
      "Done. Found 1 songs.\n",
      "Wrote `Lyrics_FleetwoodMac.json`\n",
      "Searching for songs by J. Cole...\n",
      "\n",
      "Song 1: \"No Role Modelz\"\n",
      "\n",
      "Reached user-specified song limit (1).\n",
      "Done. Found 1 songs.\n",
      "Wrote `Lyrics_J.Cole.json`\n",
      "Searching for songs by Lil Wayne...\n",
      "\n",
      "Song 1: \"Love Me\"\n",
      "\n",
      "Reached user-specified song limit (1).\n",
      "Done. Found 1 songs.\n",
      "Wrote `Lyrics_LilWayne.json`\n"
     ]
    }
   ],
   "source": [
    "for artist_name in artist_names:\n",
    "    artist = api.search_artist(artist_name, max_songs=1)\n",
    "    artist.save_lyrics()"
   ]
  },
  {
   "cell_type": "code",
   "execution_count": null,
   "metadata": {},
   "outputs": [],
   "source": []
  }
 ],
 "metadata": {
  "kernelspec": {
   "display_name": "Python 3",
   "language": "python",
   "name": "python3"
  },
  "language_info": {
   "codemirror_mode": {
    "name": "ipython",
    "version": 3
   },
   "file_extension": ".py",
   "mimetype": "text/x-python",
   "name": "python",
   "nbconvert_exporter": "python",
   "pygments_lexer": "ipython3",
   "version": "3.6.1"
  }
 },
 "nbformat": 4,
 "nbformat_minor": 4
}
